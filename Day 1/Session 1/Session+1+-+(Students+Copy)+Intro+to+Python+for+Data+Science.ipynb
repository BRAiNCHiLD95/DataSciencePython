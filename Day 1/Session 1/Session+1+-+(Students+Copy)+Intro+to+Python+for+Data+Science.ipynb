{
 "cells": [
  {
   "cell_type": "markdown",
   "metadata": {},
   "source": [
    "# Session 1 : Intro to Python for Data Science "
   ]
  },
  {
   "cell_type": "markdown",
   "metadata": {},
   "source": [
    "### In this session we are goint to cover :\n",
    "### 1) Python Basic\n",
    "### 2) Python Lists\n",
    "### 3) Function and Packages"
   ]
  },
  {
   "cell_type": "markdown",
   "metadata": {},
   "source": [
    "## 1) Python Basic"
   ]
  },
  {
   "cell_type": "code",
   "execution_count": 1,
   "metadata": {},
   "outputs": [
    {
     "name": "stdout",
     "output_type": "stream",
     "text": [
      "Hello World !!\n"
     ]
    }
   ],
   "source": [
    "print(\"Hello World !!\")"
   ]
  },
  {
   "cell_type": "code",
   "execution_count": 2,
   "metadata": {},
   "outputs": [
    {
     "name": "stdout",
     "output_type": "stream",
     "text": [
      "6.0\n"
     ]
    }
   ],
   "source": [
    "print(12/2)"
   ]
  },
  {
   "cell_type": "markdown",
   "metadata": {},
   "source": [
    "### 1.1 ) Variables"
   ]
  },
  {
   "cell_type": "code",
   "execution_count": 3,
   "metadata": {
    "collapsed": true
   },
   "outputs": [],
   "source": [
    "height = 1.75"
   ]
  },
  {
   "cell_type": "code",
   "execution_count": 4,
   "metadata": {
    "collapsed": true
   },
   "outputs": [],
   "source": [
    "weight = 78"
   ]
  },
  {
   "cell_type": "code",
   "execution_count": 5,
   "metadata": {},
   "outputs": [
    {
     "data": {
      "text/plain": [
       "1.75"
      ]
     },
     "execution_count": 5,
     "metadata": {},
     "output_type": "execute_result"
    }
   ],
   "source": [
    "height"
   ]
  },
  {
   "cell_type": "code",
   "execution_count": 6,
   "metadata": {},
   "outputs": [
    {
     "data": {
      "text/plain": [
       "78"
      ]
     },
     "execution_count": 6,
     "metadata": {},
     "output_type": "execute_result"
    }
   ],
   "source": [
    "weight"
   ]
  },
  {
   "cell_type": "markdown",
   "metadata": {},
   "source": [
    "#### Calculate BMI = weight/ (height)^2"
   ]
  },
  {
   "cell_type": "code",
   "execution_count": 7,
   "metadata": {},
   "outputs": [
    {
     "data": {
      "text/plain": [
       "21.461936624163616"
      ]
     },
     "execution_count": 7,
     "metadata": {},
     "output_type": "execute_result"
    }
   ],
   "source": [
    "68/1.78 **2"
   ]
  },
  {
   "cell_type": "code",
   "execution_count": 8,
   "metadata": {},
   "outputs": [
    {
     "data": {
      "text/plain": [
       "25.46938775510204"
      ]
     },
     "execution_count": 8,
     "metadata": {},
     "output_type": "execute_result"
    }
   ],
   "source": [
    "weight / height ** 2"
   ]
  },
  {
   "cell_type": "code",
   "execution_count": 9,
   "metadata": {},
   "outputs": [],
   "source": [
    "bmi = weight / height ** 2"
   ]
  },
  {
   "cell_type": "code",
   "execution_count": 10,
   "metadata": {},
   "outputs": [
    {
     "data": {
      "text/plain": [
       "25.46938775510204"
      ]
     },
     "execution_count": 10,
     "metadata": {},
     "output_type": "execute_result"
    }
   ],
   "source": [
    "bmi"
   ]
  },
  {
   "cell_type": "code",
   "execution_count": 11,
   "metadata": {},
   "outputs": [
    {
     "name": "stdout",
     "output_type": "stream",
     "text": [
      "Body Mass Index : 1.3628988642509465\n"
     ]
    }
   ],
   "source": [
    "height = 6.45\n",
    "weight = 56.7\n",
    "bmi = weight / height ** 2\n",
    "print(\"Body Mass Index :\",bmi)"
   ]
  },
  {
   "cell_type": "markdown",
   "metadata": {},
   "source": [
    "### 1.2 ) Data Types"
   ]
  },
  {
   "cell_type": "code",
   "execution_count": 12,
   "metadata": {},
   "outputs": [
    {
     "data": {
      "text/plain": [
       "float"
      ]
     },
     "execution_count": 12,
     "metadata": {},
     "output_type": "execute_result"
    }
   ],
   "source": [
    "type(bmi)"
   ]
  },
  {
   "cell_type": "code",
   "execution_count": 13,
   "metadata": {},
   "outputs": [
    {
     "data": {
      "text/plain": [
       "int"
      ]
     },
     "execution_count": 13,
     "metadata": {},
     "output_type": "execute_result"
    }
   ],
   "source": [
    "rollNo = 6\n",
    "type(rollNo)"
   ]
  },
  {
   "cell_type": "code",
   "execution_count": 14,
   "metadata": {
    "collapsed": true
   },
   "outputs": [],
   "source": [
    "x = \"hello Python !!!\""
   ]
  },
  {
   "cell_type": "code",
   "execution_count": 15,
   "metadata": {},
   "outputs": [
    {
     "data": {
      "text/plain": [
       "'hello Python !!!'"
      ]
     },
     "execution_count": 15,
     "metadata": {},
     "output_type": "execute_result"
    }
   ],
   "source": [
    "x"
   ]
  },
  {
   "cell_type": "code",
   "execution_count": 16,
   "metadata": {},
   "outputs": [
    {
     "data": {
      "text/plain": [
       "str"
      ]
     },
     "execution_count": 16,
     "metadata": {},
     "output_type": "execute_result"
    }
   ],
   "source": [
    "type(x)"
   ]
  },
  {
   "cell_type": "code",
   "execution_count": 17,
   "metadata": {},
   "outputs": [],
   "source": [
    "evenNumber = True"
   ]
  },
  {
   "cell_type": "code",
   "execution_count": 18,
   "metadata": {},
   "outputs": [
    {
     "data": {
      "text/plain": [
       "True"
      ]
     },
     "execution_count": 18,
     "metadata": {},
     "output_type": "execute_result"
    }
   ],
   "source": [
    "evenNumber"
   ]
  },
  {
   "cell_type": "code",
   "execution_count": 19,
   "metadata": {},
   "outputs": [
    {
     "data": {
      "text/plain": [
       "bool"
      ]
     },
     "execution_count": 19,
     "metadata": {},
     "output_type": "execute_result"
    }
   ],
   "source": [
    "type(evenNumber)"
   ]
  },
  {
   "cell_type": "markdown",
   "metadata": {},
   "source": [
    "#### Something Special about Python Data types"
   ]
  },
  {
   "cell_type": "code",
   "execution_count": 20,
   "metadata": {},
   "outputs": [
    {
     "data": {
      "text/plain": [
       "5"
      ]
     },
     "execution_count": 20,
     "metadata": {},
     "output_type": "execute_result"
    }
   ],
   "source": [
    "2+3"
   ]
  },
  {
   "cell_type": "code",
   "execution_count": 21,
   "metadata": {},
   "outputs": [
    {
     "data": {
      "text/plain": [
       "'Hello world'"
      ]
     },
     "execution_count": 21,
     "metadata": {},
     "output_type": "execute_result"
    }
   ],
   "source": [
    "\"Hello \"+ \"world\""
   ]
  },
  {
   "cell_type": "markdown",
   "metadata": {},
   "source": [
    "## Lets Practice !!!"
   ]
  },
  {
   "cell_type": "markdown",
   "metadata": {},
   "source": [
    "##### Excercise 1.1:\n",
    "* Create a Variable Saving with value 100 and Print out Savings"
   ]
  },
  {
   "cell_type": "code",
   "execution_count": 22,
   "metadata": {},
   "outputs": [
    {
     "name": "stdout",
     "output_type": "stream",
     "text": [
      "100\n"
     ]
    }
   ],
   "source": [
    "## Solution :\n",
    "savings = 100\n",
    "\n",
    "print (savings)"
   ]
  },
  {
   "cell_type": "markdown",
   "metadata": {},
   "source": [
    "##### Excercise 1.2:\n",
    "* Create a variable factor, equal to 1.10. \n",
    "* Use savings and factor to calculate the amount of money you end up with after 7 years. \n",
    "* Store the result in a new variable, result. \n",
    "* Print out the value of result\n",
    "\n",
    "Code Snippet :\n",
    "    # Create a variable savings\n",
    "    savings = 100\n",
    "\n",
    "    #Create a variable factor\n",
    "  \n",
    "    #Calculate result\n",
    "  \n",
    "    #Print out result\n",
    " "
   ]
  },
  {
   "cell_type": "code",
   "execution_count": 23,
   "metadata": {},
   "outputs": [
    {
     "name": "stdout",
     "output_type": "stream",
     "text": [
      "194.87171000000012\n"
     ]
    }
   ],
   "source": [
    "## Solution :\n",
    "# Create a variable savings\n",
    "\n",
    "savings = 100\n",
    "\n",
    "#Create a variable factor\n",
    "\n",
    "factor = 1.10\n",
    "\n",
    "#Calculate result\n",
    "\n",
    "result = savings * factor ** 7\n",
    "\n",
    "#Print out result\n",
    "\n",
    "print (result)\n"
   ]
  },
  {
   "cell_type": "markdown",
   "metadata": {},
   "source": [
    "##### Excercise 1.3:\n",
    "* Create a new string, desc, with the value \"compound interest\". \n",
    "* Create a new boolean, profitable, with the value True.\n",
    "\n",
    "Code Snippet :\n",
    "\n",
    "    # Create a variable desc\n",
    "\n",
    "    # Create a variable boolean\n"
   ]
  },
  {
   "cell_type": "code",
   "execution_count": 24,
   "metadata": {},
   "outputs": [],
   "source": [
    "## Solution :\n",
    "desc = \"compount interest\"\n",
    "\n",
    "profitable = True"
   ]
  },
  {
   "cell_type": "markdown",
   "metadata": {},
   "source": [
    "##### Excercise 1.4:\n",
    "* Calculate the product of savings and factor. Store the result in year1. \n",
    "* Find out by printing out the type of year1. \n",
    "* Calculate the sum of desc and desc and store the result in a new variable doubledesc. \n",
    "* Print out doubledesc.\n",
    "\n",
    "Code Snippet :\n",
    "\n",
    "    # Several variables to experiment with\n",
    "    savings = 100\n",
    "    factor = 1.1\n",
    "    desc = \"compound interest\"\n",
    "\n",
    "    # Assign product of factor and savings to year1\n",
    "\n",
    "    # Print the type of year1\n",
    "\n",
    "    # Assign sum of desc and desc to doubledesc\n",
    "\n",
    "    # Print out doubledesc\n"
   ]
  },
  {
   "cell_type": "code",
   "execution_count": 25,
   "metadata": {},
   "outputs": [
    {
     "name": "stdout",
     "output_type": "stream",
     "text": [
      "<class 'float'>\n",
      "compound interestcompound interest\n"
     ]
    }
   ],
   "source": [
    "## Solution :\n",
    "# Several variables to experiment with\n",
    "savings = 100\n",
    "factor = 1.1\n",
    "desc = \"compound interest\"\n",
    "\n",
    "# Assign product of factor and savings to year1\n",
    "\n",
    "year1 = savings * factor\n",
    "\n",
    "# Print the type of year1\n",
    "\n",
    "print (type(year1))\n",
    "\n",
    "# Assign sum of desc and desc to doubledesc\n",
    "\n",
    "doubledesc = desc + desc\n",
    "\n",
    "# Print out doubledesc\n",
    "\n",
    "print (doubledesc)"
   ]
  },
  {
   "cell_type": "markdown",
   "metadata": {},
   "source": [
    "##### Excercise 1.5:\n",
    "* use the function str() to convert the variables to strings.\n",
    "* Convert the variable pi_string to a float and store this float as a new variable, pi_float.\n",
    "\n",
    "Code Snippet : \n",
    "    # Definition of savings and result\n",
    "    savings = 100\n",
    "    result = 100 * 1.10 ** 7\n",
    "\n",
    "    #Fix the printout\n",
    "    print(\"I started with \" + savings + \" and now have \" + result + \". Awesome!\")\n",
    "\n",
    "    #Definition of pi_string\n",
    " \n",
    "    #Convert pi_string into float: pi_float\n"
   ]
  },
  {
   "cell_type": "code",
   "execution_count": 26,
   "metadata": {},
   "outputs": [
    {
     "name": "stdout",
     "output_type": "stream",
     "text": [
      "I started with 100 and now have 194.87171000000012. Awesome!\n",
      "255.0\n"
     ]
    }
   ],
   "source": [
    "## Solution :\n",
    "\n",
    "# Definition of savings and result\n",
    "\n",
    "savings = 100\n",
    "result = 100 * 1.10 ** 7\n",
    "\n",
    "#Fix the printout\n",
    "\n",
    "print (\"I started with \" + str(savings) + \" and now have \" + str(result) + \". Awesome!\")\n",
    "\n",
    "#Definition of pi_string\n",
    "\n",
    "pi_string = 255\n",
    "\n",
    "#Convert pi_string into float: pi_float\n",
    "\n",
    "pi_float = float(pi_string)\n",
    "\n",
    "print(pi_float)\n"
   ]
  },
  {
   "cell_type": "markdown",
   "metadata": {
    "collapsed": true
   },
   "source": [
    "## 2) Python Lists"
   ]
  },
  {
   "cell_type": "markdown",
   "metadata": {
    "collapsed": true
   },
   "source": [
    "* #### Till now we have deal with :\n",
    "> ##### int- Interger Number\n",
    "> ##### float - Real Number\n",
    "> ##### str - String, Text\n",
    "> ##### bool - True, False\n",
    "\n",
    "###### Note : Suppose we want to store a height of the whole family. So how would you imagine to do it !!"
   ]
  },
  {
   "cell_type": "code",
   "execution_count": 27,
   "metadata": {},
   "outputs": [
    {
     "data": {
      "text/plain": [
       "[5.23, 4.25, 5.6, 5.8]"
      ]
     },
     "execution_count": 27,
     "metadata": {},
     "output_type": "execute_result"
    }
   ],
   "source": [
    "[5.23,4.25,5.6,5.8]"
   ]
  },
  {
   "cell_type": "code",
   "execution_count": 28,
   "metadata": {
    "collapsed": true
   },
   "outputs": [],
   "source": [
    "fam = [5.20,5.42,6.2,5.3]"
   ]
  },
  {
   "cell_type": "code",
   "execution_count": 29,
   "metadata": {},
   "outputs": [
    {
     "data": {
      "text/plain": [
       "[5.2, 5.42, 6.2, 5.3]"
      ]
     },
     "execution_count": 29,
     "metadata": {},
     "output_type": "execute_result"
    }
   ],
   "source": [
    "fam"
   ]
  },
  {
   "cell_type": "markdown",
   "metadata": {},
   "source": [
    "##### * Lists can be a name to a collection of elements. I can be of any types and moreover contains different datatypes"
   ]
  },
  {
   "cell_type": "code",
   "execution_count": 30,
   "metadata": {
    "collapsed": true
   },
   "outputs": [],
   "source": [
    "fam = [\"dad\",6.6,\"mom\",5.01,\"sis\",4.2,\"bro\",5.8]\n"
   ]
  },
  {
   "cell_type": "code",
   "execution_count": 31,
   "metadata": {},
   "outputs": [
    {
     "data": {
      "text/plain": [
       "['dad', 6.6, 'mom', 5.01, 'sis', 4.2, 'bro', 5.8]"
      ]
     },
     "execution_count": 31,
     "metadata": {},
     "output_type": "execute_result"
    }
   ],
   "source": [
    "fam"
   ]
  },
  {
   "cell_type": "markdown",
   "metadata": {},
   "source": [
    "##### * Python list can also contain list inside it"
   ]
  },
  {
   "cell_type": "code",
   "execution_count": 32,
   "metadata": {},
   "outputs": [
    {
     "data": {
      "text/plain": [
       "[['dad', 3.4], ['mom', 4.5], ['son', 5.2]]"
      ]
     },
     "execution_count": 32,
     "metadata": {},
     "output_type": "execute_result"
    }
   ],
   "source": [
    "l1 = [\"dad\",3.4]\n",
    "l2 = [\"mom\", 4.5]\n",
    "l3 = [\"son\",5.2]\n",
    "\n",
    "final= [l1,l2,l3]\n",
    "final"
   ]
  },
  {
   "cell_type": "code",
   "execution_count": 33,
   "metadata": {
    "collapsed": true
   },
   "outputs": [],
   "source": [
    "fam2 = [[\"dad\",6.6], [\"mom\",5.01],[\"sis\",4.2],[\"bro\",5.8]]"
   ]
  },
  {
   "cell_type": "code",
   "execution_count": 34,
   "metadata": {},
   "outputs": [
    {
     "data": {
      "text/plain": [
       "[['dad', 6.6], ['mom', 5.01], ['sis', 4.2], ['bro', 5.8]]"
      ]
     },
     "execution_count": 34,
     "metadata": {},
     "output_type": "execute_result"
    }
   ],
   "source": [
    "fam2"
   ]
  },
  {
   "cell_type": "code",
   "execution_count": 35,
   "metadata": {},
   "outputs": [
    {
     "data": {
      "text/plain": [
       "list"
      ]
     },
     "execution_count": 35,
     "metadata": {},
     "output_type": "execute_result"
    }
   ],
   "source": [
    "type(fam)"
   ]
  },
  {
   "cell_type": "code",
   "execution_count": 36,
   "metadata": {},
   "outputs": [
    {
     "data": {
      "text/plain": [
       "list"
      ]
     },
     "execution_count": 36,
     "metadata": {},
     "output_type": "execute_result"
    }
   ],
   "source": [
    "type(fam2)"
   ]
  },
  {
   "cell_type": "markdown",
   "metadata": {},
   "source": [
    "## Lets Practice !!!"
   ]
  },
  {
   "cell_type": "markdown",
   "metadata": {},
   "source": [
    "* As opposed to int, bool etc., a list is a compound data type; you can group values together:\n",
    "   \n",
    "   > a = \"is\"\n",
    "   \n",
    "   > b = \"nice\"\n",
    "   \n",
    "   > my_list = [\"my\", \"list\", a, b]"
   ]
  },
  {
   "cell_type": "markdown",
   "metadata": {},
   "source": [
    "* After measuring the height of your family, you decide to collect some information on the house you're living in. Consider the  areas of the different parts of your house are stored in separate variables for now."
   ]
  },
  {
   "cell_type": "markdown",
   "metadata": {},
   "source": [
    "##### Excercise 2.1:\n",
    "* Create a list, areas, that contains the area of the hallway (hall), kitchen (kit), living room (liv), bedroom (bed) and bathroom (bath), in this order. \n",
    "Use the predefined variables.\n",
    "* Print areas with the print() function.\n",
    "\n",
    "Code Snippet :\n",
    "    #area variables (in square meters)\n",
    "\n",
    "    hall = 11.25,kit = 18.0,liv = 20.0,bed = 10.75,bath = 9.50\n",
    "\n",
    "    #Create list areas\n",
    "\n",
    "    #Print areas "
   ]
  },
  {
   "cell_type": "code",
   "execution_count": 37,
   "metadata": {},
   "outputs": [
    {
     "name": "stdout",
     "output_type": "stream",
     "text": [
      "[11.25, 18.0, 20.0, 10.75, 9.5]\n"
     ]
    }
   ],
   "source": [
    "## Solution :\n",
    "#area variables (in square meters)\n",
    "\n",
    "hall = 11.25\n",
    "kit = 18.0\n",
    "liv = 20.0\n",
    "bed = 10.75\n",
    "bath = 9.50\n",
    "\n",
    "#Create list areas\n",
    "\n",
    "areas = [hall,kit,liv,bed,bath]\n",
    "#Print areas \n",
    "\n",
    "print (areas)"
   ]
  },
  {
   "cell_type": "markdown",
   "metadata": {},
   "source": [
    "##### Excercise 2.2:\n",
    "* Finish the line of code that creates the areas list such that the list first contains the name of each room as a string and then its area. More specifically, add the strings \"hallway\", \"kitchen\" and \"bedroom\" at the appropriate locations.\n",
    "* Print areas again; is the printout more informative this time?\n",
    "\n",
    "Code Snippet : \n",
    "     #area variables (in square meters)\n",
    "        hall = 11.25\n",
    "        kit = 18.0\n",
    "        liv = 20.0\n",
    "        bed = 10.75\n",
    "        bath = 9.50\n",
    "\n",
    "     #Adapt list areas\n",
    "\n",
    "        areas = [hall, kit, \"living room\", liv, bed, \"bathroom\", bath]\n",
    "\n",
    "     #Print areas"
   ]
  },
  {
   "cell_type": "code",
   "execution_count": 38,
   "metadata": {},
   "outputs": [
    {
     "name": "stdout",
     "output_type": "stream",
     "text": [
      "[['Hall', 11.25], ['Kitchen', 18.0], ['living room', 20.0], ['Bed', 10.75], ['bathroom', 9.5]]\n"
     ]
    }
   ],
   "source": [
    "## Solution :\n",
    "#area variables (in square meters)\n",
    "\n",
    "hall = 11.25\n",
    "kit = 18.0\n",
    "liv = 20.0\n",
    "bed = 10.75\n",
    "bath = 9.50\n",
    "\n",
    "#Adapt list areas\n",
    "\n",
    "areas = [[\"Hall\", hall] , [\"Kitchen\", kit], [\"living room\", liv], [\"Bed\", bed], [\"bathroom\", bath]]\n",
    "\n",
    "#Print areas\n",
    "print(areas)"
   ]
  },
  {
   "cell_type": "markdown",
   "metadata": {},
   "source": [
    "#### Ecercise 2.3:\n",
    "* Finish the list of lists so that it also contains the bedroom and bathroom data.\n",
    "* Print out house\n",
    "* Print out the type of house. \n",
    "\n",
    "Code Snippet : \n",
    "     # area variables (in square meters)\n",
    "        hall = 11.25\n",
    "        kit = 18.0\n",
    "        liv = 20.0\n",
    "        bed = 10.75\n",
    "        bath = 9.50\n",
    "\n",
    "    #house information as list of lists\n",
    "    house = [[\"hallway\", hall],\n",
    "             [\"kitchen\", kit],\n",
    "             [\"living room\", liv]]\n",
    "\n",
    "    #Print out house\n",
    "\n",
    "\n",
    "    #Print out the type of house"
   ]
  },
  {
   "cell_type": "code",
   "execution_count": 39,
   "metadata": {},
   "outputs": [
    {
     "name": "stdout",
     "output_type": "stream",
     "text": [
      "<class 'list'> [['hallway', 11.25], ['kitchen', 18.0], ['living room', 20.0]]\n"
     ]
    }
   ],
   "source": [
    "## Solution :\n",
    "# area variables (in square meters)\n",
    "hall = 11.25\n",
    "kit = 18.0\n",
    "liv = 20.0\n",
    "bed = 10.75\n",
    "bath = 9.50\n",
    "\n",
    "#house information as list of lists\n",
    "house = [[\"hallway\", hall],\n",
    "         [\"kitchen\", kit],\n",
    "         [\"living room\", liv]]\n",
    "\n",
    "#Print out house\n",
    "\n",
    "#Print out the type of house\n",
    "\n",
    "print (type(house), house)\n"
   ]
  },
  {
   "cell_type": "markdown",
   "metadata": {},
   "source": [
    "### 2.1 ) Subsetting a List"
   ]
  },
  {
   "cell_type": "markdown",
   "metadata": {},
   "source": [
    "#### Indexing \n",
    "* To Acess Element in a list python uses a Indexing\n",
    "\n",
    "![](1.png)"
   ]
  },
  {
   "cell_type": "code",
   "execution_count": 40,
   "metadata": {},
   "outputs": [],
   "source": [
    "fam = [\"dad\",5.9,\"mom\",4.52,\"sis\",3.8,\"bro\",4.0]"
   ]
  },
  {
   "cell_type": "code",
   "execution_count": 41,
   "metadata": {},
   "outputs": [
    {
     "data": {
      "text/plain": [
       "['dad', 5.9, 'mom', 4.52, 'sis', 3.8, 'bro', 4.0]"
      ]
     },
     "execution_count": 41,
     "metadata": {},
     "output_type": "execute_result"
    }
   ],
   "source": [
    "fam"
   ]
  },
  {
   "cell_type": "code",
   "execution_count": 42,
   "metadata": {},
   "outputs": [
    {
     "data": {
      "text/plain": [
       "4.52"
      ]
     },
     "execution_count": 42,
     "metadata": {},
     "output_type": "execute_result"
    }
   ],
   "source": [
    "# mom height\n",
    "fam[3]"
   ]
  },
  {
   "cell_type": "code",
   "execution_count": 43,
   "metadata": {},
   "outputs": [
    {
     "data": {
      "text/plain": [
       "'bro'"
      ]
     },
     "execution_count": 43,
     "metadata": {},
     "output_type": "execute_result"
    }
   ],
   "source": [
    "# Select bro from the List \n",
    "fam[6]"
   ]
  },
  {
   "cell_type": "code",
   "execution_count": 44,
   "metadata": {},
   "outputs": [
    {
     "data": {
      "text/plain": [
       "4.0"
      ]
     },
     "execution_count": 44,
     "metadata": {},
     "output_type": "execute_result"
    }
   ],
   "source": [
    "# Can come backward using negative indexing\n",
    "# to get height of bro\n",
    "fam[-1]"
   ]
  },
  {
   "cell_type": "markdown",
   "metadata": {},
   "source": [
    "#### List Slicing\n",
    "* To Acess Multiple Elements from a List\n"
   ]
  },
  {
   "cell_type": "code",
   "execution_count": 45,
   "metadata": {
    "collapsed": true
   },
   "outputs": [],
   "source": [
    "fam = [\"dad\",5.9,\"mom\",4.52,\"sis\",3.8,\"bro\",4.0]"
   ]
  },
  {
   "cell_type": "code",
   "execution_count": 46,
   "metadata": {},
   "outputs": [
    {
     "data": {
      "text/plain": [
       "['mom', 4.52]"
      ]
     },
     "execution_count": 46,
     "metadata": {},
     "output_type": "execute_result"
    }
   ],
   "source": [
    "# listName[Start: End]\n",
    "fam[2:4]"
   ]
  },
  {
   "cell_type": "code",
   "execution_count": 47,
   "metadata": {},
   "outputs": [
    {
     "data": {
      "text/plain": [
       "[5.9, 'mom', 4.52]"
      ]
     },
     "execution_count": 47,
     "metadata": {},
     "output_type": "execute_result"
    }
   ],
   "source": [
    "fam[1:4]"
   ]
  },
  {
   "cell_type": "code",
   "execution_count": 48,
   "metadata": {},
   "outputs": [
    {
     "data": {
      "text/plain": [
       "['dad', 5.9, 'mom', 4.52]"
      ]
     },
     "execution_count": 48,
     "metadata": {},
     "output_type": "execute_result"
    }
   ],
   "source": [
    "# leave the start element\n",
    "fam[:4]"
   ]
  },
  {
   "cell_type": "code",
   "execution_count": 49,
   "metadata": {
    "scrolled": true
   },
   "outputs": [
    {
     "data": {
      "text/plain": [
       "['mom', 4.52, 'sis', 3.8, 'bro', 4.0]"
      ]
     },
     "execution_count": 49,
     "metadata": {},
     "output_type": "execute_result"
    }
   ],
   "source": [
    "# leave the End element\n",
    "fam[2:]"
   ]
  },
  {
   "cell_type": "markdown",
   "metadata": {},
   "source": [
    "## Lets Practice !!!"
   ]
  },
  {
   "cell_type": "markdown",
   "metadata": {},
   "source": [
    "#### Excercise 2.4:\n",
    "* Print out the second element from the areas list, so 11.25.\n",
    "* Subset and print out the last element of areas, being 9.50. Using a negative index makes sense here!\n",
    "* Select the number representing the area of the living room and print it out. \n",
    "\n",
    "Code Snippet : \n",
    "    # Create the areas list\n",
    "    areas = [\"hallway\", 11.25, \"kitchen\", 18.0, \"living room\", 20.0, \"bedroom\", 10.75, \"bathroom\", 9.50]\n",
    "\n",
    "    #Print out second element from areas\n",
    "\n",
    "\n",
    "    #Print out last element from areas\n",
    "\n",
    "\n",
    "    #Print out the area of the living room"
   ]
  },
  {
   "cell_type": "code",
   "execution_count": 50,
   "metadata": {},
   "outputs": [
    {
     "name": "stdout",
     "output_type": "stream",
     "text": [
      "kitchen\n",
      "9.5\n",
      "20.0\n"
     ]
    }
   ],
   "source": [
    "## Solution :\n",
    "\n",
    "# Create the areas list\n",
    "areas = [\"hallway\", 11.25, \"kitchen\", 18.0, \"living room\", 20.0, \"bedroom\", 10.75, \"bathroom\", 9.50]\n",
    "\n",
    "#Print out second element from areas\n",
    "print (areas[2])\n",
    "\n",
    "#Print out last element from areas\n",
    "print(areas[-1])\n",
    "\n",
    "#Print out the area of the living room\n",
    "print (areas[5])"
   ]
  },
  {
   "cell_type": "markdown",
   "metadata": {},
   "source": [
    "#### Excercise 2.5:\n",
    "* Using a combination of list subsetting and variable assignment, create a new variable, eat_sleep_area, that contains the sum of the area of the kitchen and the area of the bedroom.\n",
    "* Print the new variable eat_sleep_area.\n",
    "\n",
    "Code Snippet : \n",
    "    # Create the areas list\n",
    "    areas = [\"hallway\", 11.25, \"kitchen\", 18.0, \"living room\", 20.0, \"bedroom\", 10.75, \"bathroom\", 9.50]\n",
    "\n",
    "    #Sum of kitchen and bedroom area: eat_sleep_area\n",
    "\n",
    "    #Print the variable eat_sleep_area"
   ]
  },
  {
   "cell_type": "code",
   "execution_count": 51,
   "metadata": {},
   "outputs": [
    {
     "name": "stdout",
     "output_type": "stream",
     "text": [
      "28.75\n"
     ]
    }
   ],
   "source": [
    "## Soulution : \n",
    "\n",
    "# Create the areas list\n",
    "areas = [\"hallway\", 11.25, \"kitchen\", 18.0, \"living room\", 20.0, \"bedroom\", 10.75, \"bathroom\", 9.50]\n",
    "\n",
    "#Sum of kitchen and bedroom area: eat_sleep_area\n",
    "eat_sleep_area = areas[3]+areas[-3]\n",
    "\n",
    "#Print the variable eat_sleep_area\n",
    "print (eat_sleep_area)"
   ]
  },
  {
   "cell_type": "markdown",
   "metadata": {},
   "source": [
    "#### Excercise 2.6:\n",
    "* Use slicing to create a list, downstairs, that contains the first 6 elements of areas.\n",
    "* Do a similar thing to create a new variable, upstairs, that contains the last 4 elements of areas.\n",
    "* Print both downstairs and upstairs using print().\n",
    "\n",
    "Code Snippet : \n",
    "    # Create the areas list\n",
    "    areas = [\"hallway\", 11.25, \"kitchen\", 18.0, \"living room\", 20.0, \"bedroom\", 10.75, \"bathroom\", 9.50]\n",
    "\n",
    "    #Use slicing to create downstairs\n",
    "\n",
    "    #Use slicing to create upstairs\n",
    "\n",
    "    #Print out downstairs and upstairs"
   ]
  },
  {
   "cell_type": "code",
   "execution_count": 52,
   "metadata": {},
   "outputs": [
    {
     "name": "stdout",
     "output_type": "stream",
     "text": [
      "['hallway', 11.25, 'kitchen', 18.0, 'living room', 20.0] \n",
      " ['bedroom', 10.75, 'bathroom', 9.5]\n"
     ]
    }
   ],
   "source": [
    "## Solution :\n",
    "\n",
    "# Create the areas list\n",
    "areas = [\"hallway\", 11.25, \"kitchen\", 18.0, \"living room\", 20.0, \"bedroom\", 10.75, \"bathroom\", 9.50]\n",
    "\n",
    "#Use slicing to create downstairs\n",
    "\n",
    "downstairs = areas[:6]\n",
    "\n",
    "#Use slicing to create upstairs\n",
    "\n",
    "upstairs = areas[-4:]\n",
    "\n",
    "#Print out downstairs and upstairs\n",
    "\n",
    "print(downstairs,\"\\n\", upstairs)"
   ]
  },
  {
   "cell_type": "markdown",
   "metadata": {
    "collapsed": true
   },
   "source": [
    "### 2.2 ) Manipulating  a List"
   ]
  },
  {
   "cell_type": "markdown",
   "metadata": {},
   "source": [
    "List Manipulation is used to :\n",
    "* Change a element in a List\n",
    "* Add element in a list\n",
    "* Remove a element in a list"
   ]
  },
  {
   "cell_type": "markdown",
   "metadata": {},
   "source": [
    "###### * Change a element in a List "
   ]
  },
  {
   "cell_type": "code",
   "execution_count": 53,
   "metadata": {
    "collapsed": true
   },
   "outputs": [],
   "source": [
    "fam = [\"dad\",5.9,\"mom\",4.52,\"sis\",3.8,\"bro\",4.0]"
   ]
  },
  {
   "cell_type": "code",
   "execution_count": 54,
   "metadata": {},
   "outputs": [
    {
     "data": {
      "text/plain": [
       "['dad', 5.9, 'mom', 4.52, 'sis', 3.8, 'bro', 4.0]"
      ]
     },
     "execution_count": 54,
     "metadata": {},
     "output_type": "execute_result"
    }
   ],
   "source": [
    "fam"
   ]
  },
  {
   "cell_type": "code",
   "execution_count": 55,
   "metadata": {
    "collapsed": true
   },
   "outputs": [],
   "source": [
    "fam[5] =4.2 "
   ]
  },
  {
   "cell_type": "code",
   "execution_count": 56,
   "metadata": {},
   "outputs": [
    {
     "data": {
      "text/plain": [
       "['dad', 5.9, 'mom', 4.52, 'sis', 4.2, 'bro', 4.0]"
      ]
     },
     "execution_count": 56,
     "metadata": {},
     "output_type": "execute_result"
    }
   ],
   "source": [
    "fam"
   ]
  },
  {
   "cell_type": "code",
   "execution_count": 57,
   "metadata": {
    "collapsed": true
   },
   "outputs": [],
   "source": [
    "fam[0:2] = [\"dady\",\"6.0\"]"
   ]
  },
  {
   "cell_type": "code",
   "execution_count": 58,
   "metadata": {},
   "outputs": [
    {
     "data": {
      "text/plain": [
       "['dady', '6.0', 'mom', 4.52, 'sis', 4.2, 'bro', 4.0]"
      ]
     },
     "execution_count": 58,
     "metadata": {},
     "output_type": "execute_result"
    }
   ],
   "source": [
    "fam"
   ]
  },
  {
   "cell_type": "markdown",
   "metadata": {},
   "source": [
    "###### * Add a element in a List "
   ]
  },
  {
   "cell_type": "code",
   "execution_count": 59,
   "metadata": {},
   "outputs": [
    {
     "data": {
      "text/plain": [
       "['dady', '6.0', 'mom', 4.52, 'sis', 4.2, 'bro', 4.0, 'me', 5.86]"
      ]
     },
     "execution_count": 59,
     "metadata": {},
     "output_type": "execute_result"
    }
   ],
   "source": [
    "fam + [\"me\",5.86]"
   ]
  },
  {
   "cell_type": "code",
   "execution_count": 60,
   "metadata": {
    "collapsed": true
   },
   "outputs": [],
   "source": [
    "fam_ext = fam +  [\"grany\",5.34]"
   ]
  },
  {
   "cell_type": "code",
   "execution_count": 61,
   "metadata": {},
   "outputs": [
    {
     "data": {
      "text/plain": [
       "['dady', '6.0', 'mom', 4.52, 'sis', 4.2, 'bro', 4.0, 'grany', 5.34]"
      ]
     },
     "execution_count": 61,
     "metadata": {},
     "output_type": "execute_result"
    }
   ],
   "source": [
    "fam_ext"
   ]
  },
  {
   "cell_type": "code",
   "execution_count": 62,
   "metadata": {},
   "outputs": [
    {
     "data": {
      "text/plain": [
       "['dady', '6.0', 'mom', 4.52, 'sis', 4.2, 'bro', 4.0]"
      ]
     },
     "execution_count": 62,
     "metadata": {},
     "output_type": "execute_result"
    }
   ],
   "source": [
    "fam"
   ]
  },
  {
   "cell_type": "markdown",
   "metadata": {},
   "source": [
    "###### * Delete a element from a List "
   ]
  },
  {
   "cell_type": "code",
   "execution_count": 63,
   "metadata": {},
   "outputs": [
    {
     "data": {
      "text/plain": [
       "['dady', '6.0', 'mom', 4.52, 'sis', 4.2, 'bro', 4.0]"
      ]
     },
     "execution_count": 63,
     "metadata": {},
     "output_type": "execute_result"
    }
   ],
   "source": [
    "fam"
   ]
  },
  {
   "cell_type": "code",
   "execution_count": 64,
   "metadata": {
    "collapsed": true
   },
   "outputs": [],
   "source": [
    "del(fam[2])"
   ]
  },
  {
   "cell_type": "code",
   "execution_count": 65,
   "metadata": {},
   "outputs": [
    {
     "data": {
      "text/plain": [
       "['dady', '6.0', 4.52, 'sis', 4.2, 'bro', 4.0]"
      ]
     },
     "execution_count": 65,
     "metadata": {},
     "output_type": "execute_result"
    }
   ],
   "source": [
    "fam"
   ]
  },
  {
   "cell_type": "code",
   "execution_count": 66,
   "metadata": {
    "collapsed": true
   },
   "outputs": [],
   "source": [
    "del(fam[2])"
   ]
  },
  {
   "cell_type": "code",
   "execution_count": 67,
   "metadata": {},
   "outputs": [
    {
     "data": {
      "text/plain": [
       "['dady', '6.0', 'sis', 4.2, 'bro', 4.0]"
      ]
     },
     "execution_count": 67,
     "metadata": {},
     "output_type": "execute_result"
    }
   ],
   "source": [
    "fam"
   ]
  },
  {
   "cell_type": "markdown",
   "metadata": {},
   "source": [
    "###### * Behind the Scenes"
   ]
  },
  {
   "cell_type": "code",
   "execution_count": 68,
   "metadata": {
    "collapsed": true
   },
   "outputs": [],
   "source": [
    "x = [\"a\",\"b\",\"c\"]"
   ]
  },
  {
   "cell_type": "markdown",
   "metadata": {},
   "source": [
    "![](2.png)"
   ]
  },
  {
   "cell_type": "code",
   "execution_count": 69,
   "metadata": {
    "collapsed": true
   },
   "outputs": [],
   "source": [
    "y = x "
   ]
  },
  {
   "cell_type": "markdown",
   "metadata": {},
   "source": [
    "![](3.png)"
   ]
  },
  {
   "cell_type": "code",
   "execution_count": 70,
   "metadata": {
    "collapsed": true
   },
   "outputs": [],
   "source": [
    "y[1] = \"z\""
   ]
  },
  {
   "cell_type": "code",
   "execution_count": 71,
   "metadata": {},
   "outputs": [
    {
     "data": {
      "text/plain": [
       "['a', 'z', 'c']"
      ]
     },
     "execution_count": 71,
     "metadata": {},
     "output_type": "execute_result"
    }
   ],
   "source": [
    "y"
   ]
  },
  {
   "cell_type": "code",
   "execution_count": 72,
   "metadata": {},
   "outputs": [
    {
     "data": {
      "text/plain": [
       "['a', 'z', 'c']"
      ]
     },
     "execution_count": 72,
     "metadata": {},
     "output_type": "execute_result"
    }
   ],
   "source": [
    "x"
   ]
  },
  {
   "cell_type": "code",
   "execution_count": 73,
   "metadata": {
    "collapsed": true
   },
   "outputs": [],
   "source": [
    "# if you want to use values of x in y \n",
    "y = list(x)"
   ]
  },
  {
   "cell_type": "code",
   "execution_count": 74,
   "metadata": {
    "collapsed": true
   },
   "outputs": [],
   "source": [
    "# if you want to use values of x in y \n",
    "y = x[:]"
   ]
  },
  {
   "cell_type": "code",
   "execution_count": 75,
   "metadata": {},
   "outputs": [
    {
     "data": {
      "text/plain": [
       "['a', 'z', 'c']"
      ]
     },
     "execution_count": 75,
     "metadata": {},
     "output_type": "execute_result"
    }
   ],
   "source": [
    "y"
   ]
  },
  {
   "cell_type": "markdown",
   "metadata": {},
   "source": [
    "![](4.png)"
   ]
  },
  {
   "cell_type": "code",
   "execution_count": 76,
   "metadata": {
    "collapsed": true
   },
   "outputs": [],
   "source": [
    "y[1] = \"t\""
   ]
  },
  {
   "cell_type": "code",
   "execution_count": 77,
   "metadata": {},
   "outputs": [
    {
     "data": {
      "text/plain": [
       "['a', 't', 'c']"
      ]
     },
     "execution_count": 77,
     "metadata": {},
     "output_type": "execute_result"
    }
   ],
   "source": [
    "y"
   ]
  },
  {
   "cell_type": "code",
   "execution_count": 78,
   "metadata": {},
   "outputs": [
    {
     "data": {
      "text/plain": [
       "['a', 'z', 'c']"
      ]
     },
     "execution_count": 78,
     "metadata": {},
     "output_type": "execute_result"
    }
   ],
   "source": [
    "x"
   ]
  },
  {
   "cell_type": "markdown",
   "metadata": {},
   "source": [
    "## Lets Practice !!!"
   ]
  },
  {
   "cell_type": "markdown",
   "metadata": {},
   "source": [
    "#### Excercise 2.7:\n",
    "* You did a miscalculation when determining the area of the bathroom; it's 10.50 square meters instead of 9.50. \n",
    "* Make the areas list more trendy! Change \"living room\" to \"chill zone\".\n",
    "\n",
    "Code Snippet : \n",
    "      # Create the areas list\n",
    "        areas = [\"hallway\", 11.25, \"kitchen\", 18.0, \"living room\", 20.0, \"bedroom\", 10.75, \"bathroom\", 9.50]\n",
    "\n",
    "      #Correct the bathroom area\n",
    "\n",
    "      #Change \"living room\" to \"chill zone\""
   ]
  },
  {
   "cell_type": "code",
   "execution_count": 79,
   "metadata": {},
   "outputs": [
    {
     "name": "stdout",
     "output_type": "stream",
     "text": [
      "['hallway', 11.25, 'kitchen', 18.0, 'chill zone', 20.0, 'bedroom', 10.75, 'bathroom', 10.5]\n"
     ]
    }
   ],
   "source": [
    "## Solution \n",
    "# Create the areas list\n",
    "\n",
    "areas = [\"hallway\", 11.25, \"kitchen\", 18.0, \"living room\", 20.0, \"bedroom\", 10.75, \"bathroom\", 9.50]\n",
    "\n",
    "#Correct the bathroom area\n",
    "\n",
    "areas[-1] = 10.50\n",
    "\n",
    "#Change \"living room\" to \"chill zone\"\n",
    "areas[4] = \"chill zone\"\n",
    "\n",
    "print(areas)"
   ]
  },
  {
   "cell_type": "markdown",
   "metadata": {},
   "source": [
    "#### Excercise 2.8:\n",
    "* Use the + operator to paste the list [\"poolhouse\", 24.5] to the end of the areas list. Store the resulting list as areas_1.\n",
    "* Further extend areas_1 by adding data on your garage. Add the string \"garage\" and float 15.45. Name the resulting list areas_2.\n",
    "\n",
    "Code Snippet : \n",
    "    # Create the areas list and make some changes\n",
    "    areas = [\"hallway\", 11.25, \"kitchen\", 18.0, \"chill zone\", 20.0,\n",
    "             \"bedroom\", 10.75, \"bathroom\", 10.50]\n",
    "\n",
    "    #Add poolhouse data to areas, new list is areas_1\n",
    "\n",
    "    #Add garage data to areas_1, new list is areas_2"
   ]
  },
  {
   "cell_type": "code",
   "execution_count": 80,
   "metadata": {},
   "outputs": [
    {
     "name": "stdout",
     "output_type": "stream",
     "text": [
      "['hallway', 11.25, 'kitchen', 18.0, 'chill zone', 20.0, 'bedroom', 10.75, 'bathroom', 10.5, 'poolhouse', 24.5] \n",
      " ['hallway', 11.25, 'kitchen', 18.0, 'chill zone', 20.0, 'bedroom', 10.75, 'bathroom', 10.5, 'poolhouse', 24.5, 'garage', 15.45]\n"
     ]
    }
   ],
   "source": [
    "## Solution \n",
    "\n",
    "# Create the areas list and make some changes\n",
    "areas = [\"hallway\", 11.25, \"kitchen\", 18.0, \"chill zone\", 20.0, \"bedroom\", 10.75, \"bathroom\", 10.50]\n",
    "\n",
    "#Add poolhouse data to areas, new list is areas_1\n",
    "areas_1 = areas + [\"poolhouse\", 24.5]\n",
    "\n",
    "#Add garage data to areas_1, new list is areas_2\n",
    "\n",
    "areas_2 = areas_1 + [\"garage\", 15.45]\n",
    "\n",
    "print(areas_1,\"\\n\",areas_2)"
   ]
  },
  {
   "cell_type": "markdown",
   "metadata": {},
   "source": [
    "#### Excercise 2.9:\n",
    "* Change the second command, that creates the variable areas_copy, such that areas_copy is an explicit copy of areas\n",
    "* Now, changes made to areas_copy shouldn't affect areas. \n",
    "\n",
    "Code Snippet : \n",
    "    # Create list areas\n",
    "    areas = [11.25, 18.0, 20.0, 10.75, 9.50]\n",
    "\n",
    "    #Create areas_copy\n",
    "    areas_copy = areas\n",
    "\n",
    "    #Change areas_copy\n",
    "    areas_copy[0] = 5.0\n",
    "\n",
    "    #Print areas\n",
    "    print(areas)"
   ]
  },
  {
   "cell_type": "code",
   "execution_count": 81,
   "metadata": {},
   "outputs": [
    {
     "name": "stdout",
     "output_type": "stream",
     "text": [
      "[11.25, 18.0, 20.0, 10.75, 9.5] \n",
      " [5.0, 18.0, 20.0, 10.75, 9.5]\n"
     ]
    }
   ],
   "source": [
    "## Solution \n",
    "# Create list areas\n",
    "areas = [11.25, 18.0, 20.0, 10.75, 9.50]\n",
    "\n",
    "#Create areas_copy\n",
    "areas_copy = list(areas)\n",
    "\n",
    "#Change areas_copy\n",
    "areas_copy[0] = 5.0\n",
    "\n",
    "#Print areas\n",
    "print(areas,\"\\n\",areas_copy)"
   ]
  },
  {
   "cell_type": "markdown",
   "metadata": {
    "collapsed": true
   },
   "source": [
    "## 3) Python Functions\n",
    "\n",
    "* Piece of Reusable code\n",
    "* Solves a particular task"
   ]
  },
  {
   "cell_type": "markdown",
   "metadata": {},
   "source": [
    "###### * Max Function"
   ]
  },
  {
   "cell_type": "code",
   "execution_count": 82,
   "metadata": {
    "collapsed": true
   },
   "outputs": [],
   "source": [
    "fam = [5.20,5.42,6.2,5.3]"
   ]
  },
  {
   "cell_type": "code",
   "execution_count": 83,
   "metadata": {},
   "outputs": [
    {
     "data": {
      "text/plain": [
       "[5.2, 5.42, 6.2, 5.3]"
      ]
     },
     "execution_count": 83,
     "metadata": {},
     "output_type": "execute_result"
    }
   ],
   "source": [
    "fam"
   ]
  },
  {
   "cell_type": "code",
   "execution_count": 84,
   "metadata": {},
   "outputs": [
    {
     "data": {
      "text/plain": [
       "6.2"
      ]
     },
     "execution_count": 84,
     "metadata": {},
     "output_type": "execute_result"
    }
   ],
   "source": [
    "max(fam)"
   ]
  },
  {
   "cell_type": "code",
   "execution_count": 85,
   "metadata": {
    "collapsed": true
   },
   "outputs": [],
   "source": [
    "tallest = max(fam)"
   ]
  },
  {
   "cell_type": "code",
   "execution_count": 86,
   "metadata": {},
   "outputs": [
    {
     "data": {
      "text/plain": [
       "6.2"
      ]
     },
     "execution_count": 86,
     "metadata": {},
     "output_type": "execute_result"
    }
   ],
   "source": [
    "tallest"
   ]
  },
  {
   "cell_type": "markdown",
   "metadata": {},
   "source": [
    "###### * Round Function"
   ]
  },
  {
   "cell_type": "code",
   "execution_count": 87,
   "metadata": {},
   "outputs": [
    {
     "data": {
      "text/plain": [
       "1.7"
      ]
     },
     "execution_count": 87,
     "metadata": {},
     "output_type": "execute_result"
    }
   ],
   "source": [
    "round(1.68,1)"
   ]
  },
  {
   "cell_type": "code",
   "execution_count": 88,
   "metadata": {},
   "outputs": [
    {
     "data": {
      "text/plain": [
       "2"
      ]
     },
     "execution_count": 88,
     "metadata": {},
     "output_type": "execute_result"
    }
   ],
   "source": [
    "round(1.68)"
   ]
  },
  {
   "cell_type": "markdown",
   "metadata": {},
   "source": [
    "## Lets Practice !!!"
   ]
  },
  {
   "cell_type": "markdown",
   "metadata": {},
   "source": [
    "#### Excercise 3.1:\n",
    "* Use print() in combination with type() to print out the type of var1.\n",
    "* Use len() to get the length of the list var1. Wrap it in a print() call to directly print it out.\n",
    "* Use int() to convert var2 to an integer. Store the output as out2.\n",
    "\n",
    "Code Snippet : \n",
    "    # Create variables var1 and var2\n",
    "    var1 = [1, 2, 3, 4]\n",
    "    var2 = True\n",
    "\n",
    "    #Print out type of var1\n",
    "\n",
    "    #Print out length of var1\n",
    "\n",
    "    #Convert var2 to an integer: out2"
   ]
  },
  {
   "cell_type": "code",
   "execution_count": 89,
   "metadata": {},
   "outputs": [
    {
     "name": "stdout",
     "output_type": "stream",
     "text": [
      "<class 'list'>\n",
      "4\n",
      "<class 'int'> 1\n"
     ]
    }
   ],
   "source": [
    "## Solution \n",
    "# Create variables var1 and var2\n",
    "var1 = [1, 2, 3, 4]\n",
    "var2 = True\n",
    "\n",
    "#Print out type of var1\n",
    "print(type(var1))\n",
    "\n",
    "#Print out length of var1\n",
    "print(len(var1))\n",
    "\n",
    "#Convert var2 to an integer: out2\n",
    "out2 = int(var2)\n",
    "\n",
    "print(type(out2),out2)"
   ]
  },
  {
   "cell_type": "markdown",
   "metadata": {},
   "source": [
    "#### Excercise 3.2:\n",
    "* Use + to merge the contents of first and second into a new list: full.\n",
    "* Call sorted() on full and specify the reverse argument to be True. Save the sorted list as full_sorted.\n",
    "* Finish off by printing out full_sorted.\n",
    "\n",
    "Code Snippet : \n",
    "    # Create lists first and second\n",
    "    first = [11.25, 18.0, 20.0]\n",
    "    second = [10.75, 9.50]\n",
    "\n",
    "    #Paste together first and second: full\n",
    "\n",
    "    #Sort full in descending order: full_sorted\n",
    "\n",
    "    #Print out full_sorted"
   ]
  },
  {
   "cell_type": "code",
   "execution_count": 90,
   "metadata": {},
   "outputs": [
    {
     "name": "stdout",
     "output_type": "stream",
     "text": [
      "[20.0, 18.0, 11.25, 10.75, 9.5]\n"
     ]
    }
   ],
   "source": [
    "## Solution \n",
    "# Create lists first and second\n",
    "first = [11.25, 18.0, 20.0]\n",
    "second = [10.75, 9.50]\n",
    "\n",
    "#Paste together first and second: full\n",
    "\n",
    "full = first + second\n",
    "\n",
    "#Sort full in descending order: full_sorted\n",
    "\n",
    "full_sorted = sorted(full , reverse = True)\n",
    "\n",
    "#Print out full_sorted\n",
    "\n",
    "print(full_sorted)\n"
   ]
  },
  {
   "cell_type": "markdown",
   "metadata": {},
   "source": [
    "###### * Methods  \n",
    "\n",
    "* Call functions on object "
   ]
  },
  {
   "cell_type": "code",
   "execution_count": 91,
   "metadata": {
    "collapsed": true
   },
   "outputs": [],
   "source": [
    "fam = [\"dad\",5.9,\"mom\",4.52,\"sis\",3.8,\"bro\",4.0]"
   ]
  },
  {
   "cell_type": "code",
   "execution_count": 92,
   "metadata": {},
   "outputs": [
    {
     "data": {
      "text/plain": [
       "2"
      ]
     },
     "execution_count": 92,
     "metadata": {},
     "output_type": "execute_result"
    }
   ],
   "source": [
    "fam.index(\"mom\")"
   ]
  },
  {
   "cell_type": "code",
   "execution_count": 93,
   "metadata": {},
   "outputs": [
    {
     "data": {
      "text/plain": [
       "1"
      ]
     },
     "execution_count": 93,
     "metadata": {},
     "output_type": "execute_result"
    }
   ],
   "source": [
    "# Number of times 5.9 has occured\n",
    "fam.count(5.9)"
   ]
  },
  {
   "cell_type": "code",
   "execution_count": 94,
   "metadata": {
    "collapsed": true
   },
   "outputs": [],
   "source": [
    "fam.append(\"me\")"
   ]
  },
  {
   "cell_type": "code",
   "execution_count": 95,
   "metadata": {
    "collapsed": true
   },
   "outputs": [],
   "source": [
    "fam.append(4.56)"
   ]
  },
  {
   "cell_type": "code",
   "execution_count": 96,
   "metadata": {
    "scrolled": true
   },
   "outputs": [
    {
     "data": {
      "text/plain": [
       "['dad', 5.9, 'mom', 4.52, 'sis', 3.8, 'bro', 4.0, 'me', 4.56]"
      ]
     },
     "execution_count": 96,
     "metadata": {},
     "output_type": "execute_result"
    }
   ],
   "source": [
    "fam"
   ]
  },
  {
   "cell_type": "markdown",
   "metadata": {},
   "source": [
    "## Lets Practice !!!"
   ]
  },
  {
   "cell_type": "markdown",
   "metadata": {},
   "source": [
    "### Excercise 3.3:\n",
    "* Use the upper() method on room and store the result in room_up. Use the dot notation.\n",
    "* Print out room and room_up. Did both change?\n",
    "* Print out the number of o's on the variable room by calling count() on room and passing the letter \"o\" as an input to the method. We're talking about the variable room, not the word \"room\"!\n",
    "\n",
    "Code Snippet : \n",
    "    # string to experiment with: room\n",
    "    room = \"poolhouse\"\n",
    "\n",
    "    #Use upper() on room: room_up\n",
    "\n",
    "\n",
    "    #Print out room and room_up\n",
    "\n",
    "\n",
    "    #Print out the number of o's in room\n"
   ]
  },
  {
   "cell_type": "code",
   "execution_count": 109,
   "metadata": {},
   "outputs": [
    {
     "name": "stdout",
     "output_type": "stream",
     "text": [
      "poolhouse POOLHOUSE\n",
      "Number of O's : 3\n"
     ]
    }
   ],
   "source": [
    "## Solution \n",
    "# string to experiment with: room\n",
    "room = \"poolhouse\"\n",
    "\n",
    "#Use upper() on room: room_up\n",
    "room_up = room.upper()\n",
    "\n",
    "#Print out room and room_up\n",
    "print(room,room_up)\n",
    "\n",
    "#Print out the number of o's in room\n",
    "print(\"Number of O's :\",room.count('o'))"
   ]
  },
  {
   "cell_type": "markdown",
   "metadata": {},
   "source": [
    "### Excercise 3.4:\n",
    "* Use the index() method to get the index of the element in areas that is equal to 20.0. Print out this index.\n",
    "* Call count() on areas to find out how many times 14.5 appears in the list. Again, simply print out this number.\n",
    "\n",
    "Code Snippet : \n",
    "    #Create list areas\n",
    "    areas = [11.25, 18.0, 20.0, 10.75, 9.50]\n",
    "\n",
    "    #Print out the index of the element 20.0\n",
    "\n",
    "    #Print out how often 14.5 appears in areas\n",
    "\n",
    "\n"
   ]
  },
  {
   "cell_type": "code",
   "execution_count": 99,
   "metadata": {},
   "outputs": [
    {
     "name": "stdout",
     "output_type": "stream",
     "text": [
      "2\n",
      "0\n"
     ]
    }
   ],
   "source": [
    "## Solution \n",
    "\n",
    "#Create list areas\n",
    "areas = [11.25, 18.0, 20.0, 10.75, 9.50]\n",
    "\n",
    "#Print out the index of the element 20.0\n",
    "\n",
    "print (areas.index(20.0))\n",
    "\n",
    "#Print out how often 14.5 appears in areas\n",
    "\n",
    "print (areas.count(14.5))"
   ]
  },
  {
   "cell_type": "markdown",
   "metadata": {},
   "source": [
    "### Excercise 3.5:\n",
    "* Use append() twice to add the size of the poolhouse and the garage again: 24.5 and 15.45, respectively. Make sure to add them in this order.\n",
    "* Print out areas\n",
    "* Use the reverse() method to reverse the order of the elements in areas.\n",
    "* Print out areas once more.\n",
    "\n",
    "Code Snippet : \n",
    "    # Create list areas\n",
    "    areas = [11.25, 18.0, 20.0, 10.75, 9.50]\n",
    "\n",
    "    #Use append twice to add poolhouse and garage size\n",
    "\n",
    "    #Print out areas\n",
    "\n",
    "    #Reverse the orders of the elements in areas\n",
    "\n",
    "    #Print out areas\n",
    "\n"
   ]
  },
  {
   "cell_type": "code",
   "execution_count": 100,
   "metadata": {
    "scrolled": true
   },
   "outputs": [
    {
     "name": "stdout",
     "output_type": "stream",
     "text": [
      "[11.25, 18.0, 20.0, 10.75, 9.5, 24.5, 15.45]\n",
      "[15.45, 24.5, 9.5, 10.75, 20.0, 18.0, 11.25]\n"
     ]
    }
   ],
   "source": [
    "## Solution \n",
    "\n",
    "# Create list areas\n",
    "areas = [11.25, 18.0, 20.0, 10.75, 9.50]\n",
    "\n",
    "#Use append twice to add poolhouse and garage size\n",
    "\n",
    "areas.append(24.5)\n",
    "areas.append(15.45)\n",
    "\n",
    "#Print out areas\n",
    "\n",
    "print (areas)\n",
    "\n",
    "#Reverse the orders of the elements in areas\n",
    "areas.reverse()\n",
    "\n",
    "#Print out areas\n",
    "\n",
    "print (areas)"
   ]
  },
  {
   "cell_type": "markdown",
   "metadata": {},
   "source": [
    "###### * Packages  \n",
    "\n",
    "* Directory of python scripts\n",
    "* Each script = module\n",
    "* Specify function, methods and type\n"
   ]
  },
  {
   "cell_type": "markdown",
   "metadata": {},
   "source": [
    "![](5.png)"
   ]
  },
  {
   "cell_type": "code",
   "execution_count": 101,
   "metadata": {
    "collapsed": true
   },
   "outputs": [],
   "source": [
    "# Importing Package Numpy\n",
    "import numpy"
   ]
  },
  {
   "cell_type": "code",
   "execution_count": 102,
   "metadata": {},
   "outputs": [
    {
     "data": {
      "text/plain": [
       "array([23, 56,  7])"
      ]
     },
     "execution_count": 102,
     "metadata": {},
     "output_type": "execute_result"
    }
   ],
   "source": [
    "numpy.array([23,56,7])"
   ]
  },
  {
   "cell_type": "code",
   "execution_count": 103,
   "metadata": {
    "collapsed": true
   },
   "outputs": [],
   "source": [
    "import numpy as np"
   ]
  },
  {
   "cell_type": "code",
   "execution_count": 104,
   "metadata": {},
   "outputs": [
    {
     "data": {
      "text/plain": [
       "array([23, 56,  7])"
      ]
     },
     "execution_count": 104,
     "metadata": {},
     "output_type": "execute_result"
    }
   ],
   "source": [
    "np.array([23,56,7])"
   ]
  },
  {
   "cell_type": "code",
   "execution_count": 105,
   "metadata": {
    "collapsed": true
   },
   "outputs": [],
   "source": [
    "from numpy import array"
   ]
  },
  {
   "cell_type": "code",
   "execution_count": 106,
   "metadata": {},
   "outputs": [
    {
     "data": {
      "text/plain": [
       "array([23, 56,  7])"
      ]
     },
     "execution_count": 106,
     "metadata": {},
     "output_type": "execute_result"
    }
   ],
   "source": [
    "array([23,56,7])"
   ]
  },
  {
   "cell_type": "markdown",
   "metadata": {},
   "source": [
    "## Lets Practice !!!"
   ]
  },
  {
   "cell_type": "markdown",
   "metadata": {},
   "source": [
    "### Excercise 3.6:\n",
    "* Import the math package. Now you can access the constant pi with math.pi.\n",
    "* Calculate the circumference of the circle and store it in C.\n",
    "* Calculate the area of the circle and store it in A.\n",
    "\n",
    "Hint : C=2πr and A=πr2\n",
    "\n",
    "Code Snippet : \n",
    "    # Definition of radius\n",
    "    r = 0.43\n",
    "\n",
    "    #Import the math package\n",
    "\n",
    "    #Calculate C\n",
    "    C = 0\n",
    "\n",
    "    #Calculate A\n",
    "    A = 0\n",
    "\n",
    "    #Build printout\n",
    "    print(\"Circumference: \" + str(C))\n",
    "    print(\"Area: \" + str(A))\n"
   ]
  },
  {
   "cell_type": "code",
   "execution_count": 107,
   "metadata": {},
   "outputs": [
    {
     "name": "stdout",
     "output_type": "stream",
     "text": [
      "Circumference: 2.701769682087222\n",
      "Area: 0.5808804816487527\n"
     ]
    }
   ],
   "source": [
    "## Solution \n",
    "\n",
    "# Definition of radius\n",
    "r = 0.43\n",
    "\n",
    "#Import the math package\n",
    "import math as m\n",
    "\n",
    "#Calculate C\n",
    "C = 2*m.pi*r\n",
    "\n",
    "#Calculate A\n",
    "A = m.pi * r ** 2\n",
    "\n",
    "#Build printout\n",
    "print(\"Circumference: \" + str(C))\n",
    "print(\"Area: \" + str(A))"
   ]
  },
  {
   "cell_type": "code",
   "execution_count": 110,
   "metadata": {},
   "outputs": [
    {
     "name": "stdout",
     "output_type": "stream",
     "text": [
      "Fin!\n"
     ]
    }
   ],
   "source": [
    "print (\"Fin!\")"
   ]
  }
 ],
 "metadata": {
  "kernelspec": {
   "display_name": "Python 3",
   "language": "python",
   "name": "python3"
  },
  "language_info": {
   "codemirror_mode": {
    "name": "ipython",
    "version": 3
   },
   "file_extension": ".py",
   "mimetype": "text/x-python",
   "name": "python",
   "nbconvert_exporter": "python",
   "pygments_lexer": "ipython3",
   "version": "3.6.1"
  }
 },
 "nbformat": 4,
 "nbformat_minor": 2
}
